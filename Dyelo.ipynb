{
  "nbformat": 4,
  "nbformat_minor": 0,
  "metadata": {
    "colab": {
      "name": "Dyelo.ipynb",
      "provenance": [],
      "collapsed_sections": [],
      "mount_file_id": "1dmoNmFlwlUi1Tzj1v7iPbBJp8723UnO-",
      "authorship_tag": "ABX9TyOL935mUaYMZqZ5qs9Dw5lI",
      "include_colab_link": true
    },
    "kernelspec": {
      "name": "python3",
      "display_name": "Python 3"
    },
    "language_info": {
      "name": "python"
    }
  },
  "cells": [
    {
      "cell_type": "markdown",
      "metadata": {
        "id": "view-in-github",
        "colab_type": "text"
      },
      "source": [
        "<a href=\"https://colab.research.google.com/github/janschill/dye-elo/blob/main/Dyelo.ipynb\" target=\"_parent\"><img src=\"https://colab.research.google.com/assets/colab-badge.svg\" alt=\"Open In Colab\"/></a>"
      ]
    },
    {
      "cell_type": "markdown",
      "source": [
        "Calculate Elo Rating of Dye Players at Tietgen Tournaments"
      ],
      "metadata": {
        "id": "JkXTQOh5rmmW"
      }
    },
    {
      "cell_type": "code",
      "source": [
        "# Calculate elo rating of a team\n",
        "# Could calculate individual elo rating by using the average elo rating of a team\n",
        "# https://elosportschallenge.wordpress.com/2017/06/09/individual-ranking-for-doubles-game/\n",
        "# https://www.geeksforgeeks.org/elo-rating-algorithm/\n",
        "\n",
        "import math\n",
        " \n",
        "# Function to calculate the Probability\n",
        "def probability(rating1, rating2):\n",
        "    return 1.0 * 1.0 / (1 + 1.0 * math.pow(10, 1.0 * (rating1 - rating2) / 400))\n",
        "\n",
        "# K is a constant for giving points away.\n",
        "# d = 1 Player A wins\n",
        "# d = 2 Player B wins\n",
        "# d determines whether Player A wins or Player B.\n",
        "def elo_rating(rating_player_a, rating_player_b, d):\n",
        "    K = 50 # points given away\n",
        "    # To calculate the Winning Probability of Player B\n",
        "    probability_player_b = probability(rating_player_a, rating_player_b)\n",
        "    # To calculate the Winning Probability of Player A\n",
        "    probability_player_a = probability(rating_player_b, rating_player_a)\n",
        " \n",
        "    # Player A wins\n",
        "    if (d == 1) :\n",
        "        rpa = rating_player_a + K * (1 - probability_player_a)\n",
        "        rpb = rating_player_b + K * (0 - probability_player_b) \n",
        "    # Player B wins\n",
        "    else :\n",
        "        rpa = rating_player_a + K * (0 - probability_player_a)\n",
        "        rpb = rating_player_b + K * (1 - probability_player_b)\n",
        "\n",
        "    return [rpa, rpb]\n",
        "    # print(\"Updated Ratings:-\")\n",
        "    # print(\"rating_player_a =\", round(rating_player_a, 6),\" rating_player_b =\", round(rating_player_b, 6))\n",
        "    \n",
        "def elo_rating_doubles(team1, team2, d):\n",
        "  t1p1 = team1[0]\n",
        "  t1p2 = team1[1]\n",
        "  t2p1 = team2[0]\n",
        "  t2p2 = team2[1]\n",
        "  team1_avg_rating = (t1p1['elo_rating'] + t1p2['elo_rating']) / 2\n",
        "  team2_avg_rating = (t2p1['elo_rating'] + t2p2['elo_rating']) / 2\n",
        "\n",
        "  new_elo_team1, new_elo_team2 = elo_rating(team1_avg_rating, team2_avg_rating, d)\n",
        "\n",
        "  new_rating_t1p1 = t1p1['elo_rating'] + new_elo_team1 - team1_avg_rating\n",
        "  new_rating_t1p2 = t1p2['elo_rating'] + new_elo_team1 - team1_avg_rating\n",
        "  new_rating_t2p1 = t2p1['elo_rating'] + new_elo_team2 - team2_avg_rating\n",
        "  new_rating_t2p2 = t2p2['elo_rating'] + new_elo_team2 - team2_avg_rating\n",
        "\n",
        "  return [new_rating_t1p1, new_rating_t1p2, new_rating_t2p1, new_rating_t2p2]\n",
        "# Ra = 1400\n",
        "# Rb = 1300\n",
        "# d = 2\n",
        "# elo_rating(Ra, Rb, d)\n",
        "# elo_rating_doubles([{ 'elo_rating': Ra } , { 'elo_rating': Ra }], [{ 'elo_rating': Rb }, { 'elo_rating': Rb }], d)"
      ],
      "metadata": {
        "id": "d89wbOGirlun"
      },
      "execution_count": 239,
      "outputs": []
    },
    {
      "cell_type": "code",
      "execution_count": 240,
      "metadata": {
        "colab": {
          "base_uri": "https://localhost:8080/"
        },
        "id": "uF_pBlrxBi-x",
        "outputId": "0ea20e36-89a9-457e-d98b-3ece9cd497b9"
      },
      "outputs": [
        {
          "output_type": "stream",
          "name": "stdout",
          "text": [
            "Looking in indexes: https://pypi.org/simple, https://us-python.pkg.dev/colab-wheels/public/simple/\n",
            "Requirement already satisfied: pychallonge in /usr/local/lib/python3.7/dist-packages (1.11.5)\n",
            "Requirement already satisfied: requests<3.0,>=2.25.1 in /usr/local/lib/python3.7/dist-packages (from pychallonge) (2.28.1)\n",
            "Requirement already satisfied: pytz==2019.3 in /usr/local/lib/python3.7/dist-packages (from pychallonge) (2019.3)\n",
            "Requirement already satisfied: iso8601==0.1.12 in /usr/local/lib/python3.7/dist-packages (from pychallonge) (0.1.12)\n",
            "Requirement already satisfied: tzlocal<3.0,>=2.0.0 in /usr/local/lib/python3.7/dist-packages (from pychallonge) (2.1)\n",
            "Requirement already satisfied: charset-normalizer<3,>=2 in /usr/local/lib/python3.7/dist-packages (from requests<3.0,>=2.25.1->pychallonge) (2.1.0)\n",
            "Requirement already satisfied: urllib3<1.27,>=1.21.1 in /usr/local/lib/python3.7/dist-packages (from requests<3.0,>=2.25.1->pychallonge) (1.24.3)\n",
            "Requirement already satisfied: idna<4,>=2.5 in /usr/local/lib/python3.7/dist-packages (from requests<3.0,>=2.25.1->pychallonge) (2.10)\n",
            "Requirement already satisfied: certifi>=2017.4.17 in /usr/local/lib/python3.7/dist-packages (from requests<3.0,>=2.25.1->pychallonge) (2022.6.15)\n"
          ]
        }
      ],
      "source": [
        "!pip install pychallonge"
      ]
    },
    {
      "cell_type": "code",
      "source": [
        "import challonge\n",
        "\n",
        "challonge.set_credentials(\"janschill\", \"\")\n",
        "\n",
        "def challonge_tournament_id(year):\n",
        "  if year == 2020:\n",
        "    return \"dyeislife\"\n",
        "  if year == 2021:\n",
        "    return \"dyeislifedk2021\"\n",
        "\n",
        "c_t_memo = {}\n",
        "def challonge_tournament(year):\n",
        "  id = challonge_tournament_id(year)\n",
        "  if year not in c_t_memo:\n",
        "    c_t_memo[year] = challonge.tournaments.show(id)\n",
        "  return c_t_memo[year]\n",
        "\n",
        "c_m_memo = {}\n",
        "def challonge_matches(year):\n",
        "  if year not in c_m_memo:\n",
        "    c_m_memo[year] = challonge.matches.index(challonge_tournament(year)['id'])\n",
        "  return c_m_memo[year]\n",
        "\n",
        "c_p_memo = {}\n",
        "def challonge_participants(year):\n",
        "  if year not in c_p_memo:\n",
        "    c_p_memo[year] = challonge.participants.index(challonge_tournament(year)['id'])\n",
        "  return c_p_memo[year]\n"
      ],
      "metadata": {
        "id": "i8PsRJFYCT21"
      },
      "execution_count": 241,
      "outputs": []
    },
    {
      "cell_type": "code",
      "source": [
        "from google.colab import auth\n",
        "auth.authenticate_user()\n",
        "\n",
        "import gspread\n",
        "from google.auth import default\n",
        "creds, _ = default()\n",
        "\n",
        "gc = gspread.authorize(creds)\n",
        "\n",
        "worksheet = gc.open('participants').sheet1\n",
        "\n",
        "# get_all_values gives a list of rows.\n",
        "rows = worksheet.get_all_values()\n",
        "print(rows)\n",
        "\n",
        "# Convert to a DataFrame and render.\n",
        "import pandas as pd\n",
        "pd.DataFrame.from_records(rows)"
      ],
      "metadata": {
        "id": "pi2TQtgdDUyL"
      },
      "execution_count": null,
      "outputs": []
    },
    {
      "cell_type": "code",
      "source": [
        "def redact_full_name(full_name, level = 1):\n",
        "  names = full_name.split() # ['Jan', 'Schill']\n",
        "  if level == 1:\n",
        "    return names[0]\n",
        "  else:\n",
        "    redacted_name = names[0]\n",
        "    for idx in range(1, len(names), 1):\n",
        "      redacted_name += \" \" + names[idx][0]\n",
        "    return redacted_name\n",
        "\n",
        "redact_full_name(\"Jan Schill Sch\", 2)"
      ],
      "metadata": {
        "colab": {
          "base_uri": "https://localhost:8080/",
          "height": 35
        },
        "id": "uF2DZLjUTS0M",
        "outputId": "9ae156fa-6cf2-484c-eeea-62db57ba6e71"
      },
      "execution_count": 243,
      "outputs": [
        {
          "output_type": "execute_result",
          "data": {
            "text/plain": [
              "'Jan S S'"
            ],
            "application/vnd.google.colaboratory.intrinsic+json": {
              "type": "string"
            }
          },
          "metadata": {},
          "execution_count": 243
        }
      ]
    },
    {
      "cell_type": "code",
      "source": [
        "# Convert players to dict\n",
        "players_raw = []\n",
        "for idx in range(1, len(rows), 1):\n",
        "  players_raw.append({\n",
        "      'id': int(rows[idx][0]),\n",
        "      'name': redact_full_name(rows[idx][1]),\n",
        "      'elo_rating': float(rows[idx][4]),\n",
        "      'tournament_year': int(rows[idx][3]),   \n",
        "      'team_name': rows[idx][2]\n",
        "  })"
      ],
      "metadata": {
        "id": "DB4F-Q_KE3Rg"
      },
      "execution_count": null,
      "outputs": []
    },
    {
      "cell_type": "code",
      "source": [
        "# Combine duplicates; Duplicates are if a players has participated in multiple tournaments\n",
        "# seen_name = set()\n",
        "# for obj in l:\n",
        "#     if obj['name'] not in seen_name:\n",
        "#         seen_name.add(obj['name'])\n",
        "#     else:\n",
        "#         print('Found duplicate', obj['name'])\n",
        "players = dict()\n",
        "for p in players_raw:\n",
        "  id = p['id']\n",
        "  if id in players:\n",
        "    players[id]['tournaments'][p['tournament_year']] = p['team_name']\n",
        "  else:\n",
        "    players[id] = {\n",
        "      'id': p['id'],\n",
        "      'name': p['name'],\n",
        "      'elo_rating': p['elo_rating'],\n",
        "      'tournaments': { p['tournament_year']: p['team_name'] }\n",
        "    }"
      ],
      "metadata": {
        "colab": {
          "base_uri": "https://localhost:8080/"
        },
        "id": "hnv8m0urHPV5",
        "outputId": "4ef2172e-e176-427f-a81d-782e00f3b53d"
      },
      "execution_count": 245,
      "outputs": [
        {
          "output_type": "execute_result",
          "data": {
            "text/plain": [
              "{'elo_rating': 1400.0,\n",
              " 'id': 1,\n",
              " 'name': 'Aksel',\n",
              " 'tournaments': {2021: 'Mike Dyeson'}}"
            ]
          },
          "metadata": {},
          "execution_count": 245
        }
      ]
    },
    {
      "cell_type": "code",
      "source": [
        "def strap_and_lower(s):\n",
        "  return ''.join(e for e in s if e.isalnum()).lower()\n",
        "\n",
        "def equal_team_names(team_name1, team_name2):\n",
        "  return strap_and_lower(team_name1) == strap_and_lower(team_name2)\n",
        "\n",
        "def get_players_by_challonge_team_id(challonge_id, year):\n",
        "  # gets first element on match\n",
        "  challonge_team = next((item for item in challonge_participants(year) if item['id'] == challonge_id), None)\n",
        "  challonge_team_name = challonge_team['name']\n",
        "  # print(challonge_team_name)\n",
        "  ps = []\n",
        "  for item in players.items():\n",
        "    player = item[1] # items() returns tuple\n",
        "    if year in player['tournaments'] and equal_team_names(player['tournaments'][year], challonge_team_name):\n",
        "      # print(f\"Found match for {player['name']}\")\n",
        "      ps.append(player)\n",
        "  \n",
        "  if ps == []:\n",
        "    print(f\"No match found for {challonge_team_name}\")\n",
        "    ps = [{'elo_rating': 1000, 'name': challonge_team_name + \"-1\"}, {'elo_rating': 1000, 'name': challonge_team_name + \"-2\"}]\n",
        "\n",
        "  return ps"
      ],
      "metadata": {
        "id": "qsiSbcOYaLr_"
      },
      "execution_count": 246,
      "outputs": []
    },
    {
      "cell_type": "code",
      "source": [
        "def reset_players_elo():\n",
        "  for item in players.items():\n",
        "    player = item[1] # items() returns tuple\n",
        "    player['elo_rating'] = 1400\n",
        "\n",
        "def generate_elo(year):\n",
        "  for match in challonge_matches(year):\n",
        "    t1p1, t1p2 = get_players_by_challonge_team_id(match['player1_id'], year)\n",
        "    t2p1, t2p2 = get_players_by_challonge_team_id(match['player2_id'], year)\n",
        "    \n",
        "    winner = 1 if match['winner_id'] == match['player1_id'] else 2\n",
        "    verb = \"wins\" if winner == 1 else \"loses\"\n",
        "    # print(f'{match[\"player1_id\"]} {verb} against {match[\"player2_id\"]}')\n",
        "    t1p1_new_rating, t1p2_new_rating, t2p1_new_rating, t2p2_new_rating = elo_rating_doubles([t1p1, t1p2],[t2p1, t2p2], winner)\n",
        "    t1p1['elo_rating'] = t1p1_new_rating\n",
        "    t1p2['elo_rating'] = t1p2_new_rating\n",
        "    t2p1['elo_rating'] = t2p1_new_rating\n",
        "    t2p2['elo_rating'] = t2p2_new_rating"
      ],
      "metadata": {
        "id": "h7SWcAAOwnyb"
      },
      "execution_count": 248,
      "outputs": []
    },
    {
      "cell_type": "code",
      "source": [
        "reset_players_elo()\n",
        "\n",
        "generate_elo(2020)\n",
        "generate_elo(2021)"
      ],
      "metadata": {
        "colab": {
          "base_uri": "https://localhost:8080/"
        },
        "id": "jotbOcaqYU6Z",
        "outputId": "919118a0-6a76-4158-f81a-bfc3d1e5b3b6"
      },
      "execution_count": 249,
      "outputs": [
        {
          "output_type": "stream",
          "name": "stdout",
          "text": [
            "No match found for Dyetastic\n",
            "No match found for ------\n",
            "No match found for Dyetastic\n",
            "No match found for ------\n",
            "No match found for Dyetastic\n",
            "No match found for Dyetastic\n"
          ]
        }
      ]
    },
    {
      "cell_type": "code",
      "source": [
        "df = pd.DataFrame.from_dict(players, orient='index')\n",
        "df"
      ],
      "metadata": {
        "colab": {
          "base_uri": "https://localhost:8080/",
          "height": 655
        },
        "id": "qyMr8PR32-aZ",
        "outputId": "18b90301-5921-4d32-d5fd-db26f0d8a6d7"
      },
      "execution_count": 250,
      "outputs": [
        {
          "output_type": "execute_result",
          "data": {
            "text/plain": [
              "      id       name   elo_rating  \\\n",
              "1      1      Aksel  1408.098005   \n",
              "2      2    Alberte  1407.127385   \n",
              "3      3  Alexandre  1350.000000   \n",
              "4      4     Anders  1375.053079   \n",
              "5      5    Andreas  1374.032099   \n",
              "..   ...        ...          ...   \n",
              "147  147       Will  1416.098676   \n",
              "148  148    William  1346.426844   \n",
              "149  149    William  1398.484220   \n",
              "150  150    William  1534.543568   \n",
              "151  151    William  1544.174704   \n",
              "\n",
              "                                           tournaments  \n",
              "1                                {2021: 'Mike Dyeson'}  \n",
              "2                                        {2021: '14x'}  \n",
              "3                        {2020: 'Les deux merveilles'}  \n",
              "4                                     {2021: 'Ph.Dye'}  \n",
              "5                               {2021: '3460iditglas'}  \n",
              "..                                                 ...  \n",
              "147  {2020: 'Fry up', 2021: 'Isn't it a coincidence...  \n",
              "148                        {2021: 'Bankers & Wankers'}  \n",
              "149                               {2021: 'Duck Dyeve'}  \n",
              "150                        {2021: 'H.O. Langes helte'}  \n",
              "151         {2020: 'Dyelai Lama', 2021: 'Dyelai Lama'}  \n",
              "\n",
              "[151 rows x 4 columns]"
            ],
            "text/html": [
              "\n",
              "  <div id=\"df-92c68671-a1f4-45e7-af88-3e1cae9b8cd8\">\n",
              "    <div class=\"colab-df-container\">\n",
              "      <div>\n",
              "<style scoped>\n",
              "    .dataframe tbody tr th:only-of-type {\n",
              "        vertical-align: middle;\n",
              "    }\n",
              "\n",
              "    .dataframe tbody tr th {\n",
              "        vertical-align: top;\n",
              "    }\n",
              "\n",
              "    .dataframe thead th {\n",
              "        text-align: right;\n",
              "    }\n",
              "</style>\n",
              "<table border=\"1\" class=\"dataframe\">\n",
              "  <thead>\n",
              "    <tr style=\"text-align: right;\">\n",
              "      <th></th>\n",
              "      <th>id</th>\n",
              "      <th>name</th>\n",
              "      <th>elo_rating</th>\n",
              "      <th>tournaments</th>\n",
              "    </tr>\n",
              "  </thead>\n",
              "  <tbody>\n",
              "    <tr>\n",
              "      <th>1</th>\n",
              "      <td>1</td>\n",
              "      <td>Aksel</td>\n",
              "      <td>1408.098005</td>\n",
              "      <td>{2021: 'Mike Dyeson'}</td>\n",
              "    </tr>\n",
              "    <tr>\n",
              "      <th>2</th>\n",
              "      <td>2</td>\n",
              "      <td>Alberte</td>\n",
              "      <td>1407.127385</td>\n",
              "      <td>{2021: '14x'}</td>\n",
              "    </tr>\n",
              "    <tr>\n",
              "      <th>3</th>\n",
              "      <td>3</td>\n",
              "      <td>Alexandre</td>\n",
              "      <td>1350.000000</td>\n",
              "      <td>{2020: 'Les deux merveilles'}</td>\n",
              "    </tr>\n",
              "    <tr>\n",
              "      <th>4</th>\n",
              "      <td>4</td>\n",
              "      <td>Anders</td>\n",
              "      <td>1375.053079</td>\n",
              "      <td>{2021: 'Ph.Dye'}</td>\n",
              "    </tr>\n",
              "    <tr>\n",
              "      <th>5</th>\n",
              "      <td>5</td>\n",
              "      <td>Andreas</td>\n",
              "      <td>1374.032099</td>\n",
              "      <td>{2021: '3460iditglas'}</td>\n",
              "    </tr>\n",
              "    <tr>\n",
              "      <th>...</th>\n",
              "      <td>...</td>\n",
              "      <td>...</td>\n",
              "      <td>...</td>\n",
              "      <td>...</td>\n",
              "    </tr>\n",
              "    <tr>\n",
              "      <th>147</th>\n",
              "      <td>147</td>\n",
              "      <td>Will</td>\n",
              "      <td>1416.098676</td>\n",
              "      <td>{2020: 'Fry up', 2021: 'Isn't it a coincidence...</td>\n",
              "    </tr>\n",
              "    <tr>\n",
              "      <th>148</th>\n",
              "      <td>148</td>\n",
              "      <td>William</td>\n",
              "      <td>1346.426844</td>\n",
              "      <td>{2021: 'Bankers &amp; Wankers'}</td>\n",
              "    </tr>\n",
              "    <tr>\n",
              "      <th>149</th>\n",
              "      <td>149</td>\n",
              "      <td>William</td>\n",
              "      <td>1398.484220</td>\n",
              "      <td>{2021: 'Duck Dyeve'}</td>\n",
              "    </tr>\n",
              "    <tr>\n",
              "      <th>150</th>\n",
              "      <td>150</td>\n",
              "      <td>William</td>\n",
              "      <td>1534.543568</td>\n",
              "      <td>{2021: 'H.O. Langes helte'}</td>\n",
              "    </tr>\n",
              "    <tr>\n",
              "      <th>151</th>\n",
              "      <td>151</td>\n",
              "      <td>William</td>\n",
              "      <td>1544.174704</td>\n",
              "      <td>{2020: 'Dyelai Lama', 2021: 'Dyelai Lama'}</td>\n",
              "    </tr>\n",
              "  </tbody>\n",
              "</table>\n",
              "<p>151 rows × 4 columns</p>\n",
              "</div>\n",
              "      <button class=\"colab-df-convert\" onclick=\"convertToInteractive('df-92c68671-a1f4-45e7-af88-3e1cae9b8cd8')\"\n",
              "              title=\"Convert this dataframe to an interactive table.\"\n",
              "              style=\"display:none;\">\n",
              "        \n",
              "  <svg xmlns=\"http://www.w3.org/2000/svg\" height=\"24px\"viewBox=\"0 0 24 24\"\n",
              "       width=\"24px\">\n",
              "    <path d=\"M0 0h24v24H0V0z\" fill=\"none\"/>\n",
              "    <path d=\"M18.56 5.44l.94 2.06.94-2.06 2.06-.94-2.06-.94-.94-2.06-.94 2.06-2.06.94zm-11 1L8.5 8.5l.94-2.06 2.06-.94-2.06-.94L8.5 2.5l-.94 2.06-2.06.94zm10 10l.94 2.06.94-2.06 2.06-.94-2.06-.94-.94-2.06-.94 2.06-2.06.94z\"/><path d=\"M17.41 7.96l-1.37-1.37c-.4-.4-.92-.59-1.43-.59-.52 0-1.04.2-1.43.59L10.3 9.45l-7.72 7.72c-.78.78-.78 2.05 0 2.83L4 21.41c.39.39.9.59 1.41.59.51 0 1.02-.2 1.41-.59l7.78-7.78 2.81-2.81c.8-.78.8-2.07 0-2.86zM5.41 20L4 18.59l7.72-7.72 1.47 1.35L5.41 20z\"/>\n",
              "  </svg>\n",
              "      </button>\n",
              "      \n",
              "  <style>\n",
              "    .colab-df-container {\n",
              "      display:flex;\n",
              "      flex-wrap:wrap;\n",
              "      gap: 12px;\n",
              "    }\n",
              "\n",
              "    .colab-df-convert {\n",
              "      background-color: #E8F0FE;\n",
              "      border: none;\n",
              "      border-radius: 50%;\n",
              "      cursor: pointer;\n",
              "      display: none;\n",
              "      fill: #1967D2;\n",
              "      height: 32px;\n",
              "      padding: 0 0 0 0;\n",
              "      width: 32px;\n",
              "    }\n",
              "\n",
              "    .colab-df-convert:hover {\n",
              "      background-color: #E2EBFA;\n",
              "      box-shadow: 0px 1px 2px rgba(60, 64, 67, 0.3), 0px 1px 3px 1px rgba(60, 64, 67, 0.15);\n",
              "      fill: #174EA6;\n",
              "    }\n",
              "\n",
              "    [theme=dark] .colab-df-convert {\n",
              "      background-color: #3B4455;\n",
              "      fill: #D2E3FC;\n",
              "    }\n",
              "\n",
              "    [theme=dark] .colab-df-convert:hover {\n",
              "      background-color: #434B5C;\n",
              "      box-shadow: 0px 1px 3px 1px rgba(0, 0, 0, 0.15);\n",
              "      filter: drop-shadow(0px 1px 2px rgba(0, 0, 0, 0.3));\n",
              "      fill: #FFFFFF;\n",
              "    }\n",
              "  </style>\n",
              "\n",
              "      <script>\n",
              "        const buttonEl =\n",
              "          document.querySelector('#df-92c68671-a1f4-45e7-af88-3e1cae9b8cd8 button.colab-df-convert');\n",
              "        buttonEl.style.display =\n",
              "          google.colab.kernel.accessAllowed ? 'block' : 'none';\n",
              "\n",
              "        async function convertToInteractive(key) {\n",
              "          const element = document.querySelector('#df-92c68671-a1f4-45e7-af88-3e1cae9b8cd8');\n",
              "          const dataTable =\n",
              "            await google.colab.kernel.invokeFunction('convertToInteractive',\n",
              "                                                     [key], {});\n",
              "          if (!dataTable) return;\n",
              "\n",
              "          const docLinkHtml = 'Like what you see? Visit the ' +\n",
              "            '<a target=\"_blank\" href=https://colab.research.google.com/notebooks/data_table.ipynb>data table notebook</a>'\n",
              "            + ' to learn more about interactive tables.';\n",
              "          element.innerHTML = '';\n",
              "          dataTable['output_type'] = 'display_data';\n",
              "          await google.colab.output.renderOutput(dataTable, element);\n",
              "          const docLink = document.createElement('div');\n",
              "          docLink.innerHTML = docLinkHtml;\n",
              "          element.appendChild(docLink);\n",
              "        }\n",
              "      </script>\n",
              "    </div>\n",
              "  </div>\n",
              "  "
            ]
          },
          "metadata": {},
          "execution_count": 250
        }
      ]
    },
    {
      "cell_type": "code",
      "source": [
        "import json\n",
        "\n",
        "# result = df.to_json(orient=\"index\")\n",
        "result = df.to_json(orient='records')[1:-1]\n",
        "result\n",
        "# parsed = json.loads(result)\n",
        "# json.dumps(parsed, indent=4)"
      ],
      "metadata": {
        "colab": {
          "base_uri": "https://localhost:8080/",
          "height": 143
        },
        "id": "0fVm69rJRAEJ",
        "outputId": "f985ae4d-7b69-4f70-bcd1-a01a9f7c98dc"
      },
      "execution_count": 251,
      "outputs": [
        {
          "output_type": "execute_result",
          "data": {
            "text/plain": [
              "'{\"id\":1,\"name\":\"Aksel\",\"elo_rating\":1408.0980051892,\"tournaments\":{\"2021\":\"Mike Dyeson\"}},{\"id\":2,\"name\":\"Alberte\",\"elo_rating\":1407.1273852881,\"tournaments\":{\"2021\":\"14x\"}},{\"id\":3,\"name\":\"Alexandre\",\"elo_rating\":1350.0,\"tournaments\":{\"2020\":\"Les deux merveilles\"}},{\"id\":4,\"name\":\"Anders\",\"elo_rating\":1375.0530785306,\"tournaments\":{\"2021\":\"Ph.Dye\"}},{\"id\":5,\"name\":\"Andreas\",\"elo_rating\":1374.0320992225,\"tournaments\":{\"2021\":\"3460iditglas\"}},{\"id\":6,\"name\":\"Anna\",\"elo_rating\":1376.3192711944,\"tournaments\":{\"2021\":\"Shine bright like a dyemond\"}},{\"id\":7,\"name\":\"Anna\",\"elo_rating\":1351.946208318,\"tournaments\":{\"2021\":\"Marry rich or dye trying\"}},{\"id\":8,\"name\":\"Asger\",\"elo_rating\":1423.2042036527,\"tournaments\":{\"2020\":\"Live hard, DYE trying\"}},{\"id\":9,\"name\":\"Astrid\",\"elo_rating\":1350.0,\"tournaments\":{\"2020\":\"Dice Dice Baby\"}},{\"id\":10,\"name\":\"Billy\",\"elo_rating\":1394.2152140267,\"tournaments\":{\"2020\":\"Fry up\",\"2021\":\"Sink-182\"}},{\"id\":11,\"name\":\"Bjorn\",\"elo_rating\":1370.4405844409,\"tournaments\":{\"2021\":\"Porco Dye\"}},{\"id\":12,\"name\":\"Christian\",\"elo_rating\":1426.9242986864,\"tournaments\":{\"2020\":\"Total Dyenimation\"}},{\"id\":13,\"name\":\"Christian\",\"elo_rating\":1331.3177831616,\"tournaments\":{\"2021\":\"Fl\\\\u00e6skesdye\"}},{\"id\":14,\"name\":\"Christian\",\"elo_rating\":1453.435360441,\"tournaments\":{\"2021\":\"Dyenosaur\"}},{\"id\":15,\"name\":\"Christian\",\"elo_rating\":1378.2442468264,\"tournaments\":{\"2021\":\"Try Hard or Dye Trying\"}},{\"id\":16,\"name\":\"Christian\",\"elo_rating\":1375.0,\"tournaments\":{\"2020\":\"Scotch Bonnet Bois\"}},{\"id\":17,\"name\":\"Christoffer\",\"elo_rating\":1369.4329839629,\"tournaments\":{\"2020\":\"De f\\\\u00d8Lsomme drenge\",\"2021\":\"Isn\\'t it a coincidence that ...\"}},{\"id\":18,\"name\":\"Daniel\",\"elo_rating\":1351.5562905196,\"tournaments\":{\"2021\":\"Vierherfor\\\\u00f8llene\"}},{\"id\":19,\"name\":\"Daniel\",\"elo_rating\":1376.9215919496,\"tournaments\":{\"2020\":\"Dye Hard\",\"2021\":\"WOLOLO\"}},{\"id\":20,\"name\":\"Daniel\",\"elo_rating\":1396.5980251889,\"tournaments\":{\"2021\":\"Er du dum du dyelig\",\"2020\":\"ErruDyeEllaHvad\"}},{\"id\":21,\"name\":\"Danny\",\"elo_rating\":1350.0,\"tournaments\":{\"2020\":\"High Rollers\"}},{\"id\":22,\"name\":\"Emil\",\"elo_rating\":1375.0,\"tournaments\":{\"2020\":\"Et godt navn\"}},{\"id\":23,\"name\":\"Emil\",\"elo_rating\":1349.0364153158,\"tournaments\":{\"2021\":\"Det Johnson Baby!\"}},{\"id\":24,\"name\":\"Emilie\",\"elo_rating\":1375.6930033848,\"tournaments\":{\"2021\":\"Team Dobbelsteen\"}},{\"id\":25,\"name\":\"Emma\",\"elo_rating\":1400.4177737655,\"tournaments\":{\"2021\":\"Tietgens Tigermissere\"}},{\"id\":26,\"name\":\"Emma\",\"elo_rating\":1398.5861384017,\"tournaments\":{\"2021\":\"Dyelige Sommerb\\\\u00f8rn\"}},{\"id\":27,\"name\":\"Erik\",\"elo_rating\":1350.0,\"tournaments\":{\"2020\":\"Dye of the Tiger \\\\ud83d\\\\udc2f\"}},{\"id\":28,\"name\":\"Fabian\",\"elo_rating\":1331.3177831616,\"tournaments\":{\"2021\":\"Fl\\\\u00e6skesdye\"}},{\"id\":29,\"name\":\"Filip\",\"elo_rating\":1398.5861384017,\"tournaments\":{\"2021\":\"Dyelige Sommerb\\\\u00f8rn\"}},{\"id\":30,\"name\":\"Frederik\",\"elo_rating\":1549.0394139208,\"tournaments\":{\"2020\":\"Long Arms\",\"2021\":\"Surdye\"}},{\"id\":31,\"name\":\"Frederik\",\"elo_rating\":1461.2090089948,\"tournaments\":{\"2021\":\"Gaucho Glue \\\\ud83d\\\\udd90\\\\ud83c\\\\udffb\",\"2020\":\"Gaucho Glue \\\\ud83d\\\\udd90\\\\ud83c\\\\udffb\"}},{\"id\":32,\"name\":\"Frederik\",\"elo_rating\":1477.8198662373,\"tournaments\":{\"2020\":\"BFT\\\\u2019s finest\",\"2021\":\"Tuds Dyelings\"}},{\"id\":33,\"name\":\"Gitte\",\"elo_rating\":1350.0,\"tournaments\":{\"2021\":\"Live fast, dye young\"}},{\"id\":34,\"name\":\"Giuseppe\",\"elo_rating\":1370.4405844409,\"tournaments\":{\"2021\":\"Porco Dye\"}},{\"id\":35,\"name\":\"Gustav\",\"elo_rating\":1450.9847195698,\"tournaments\":{\"2020\":\"Dye Hard 2: Dye Harder\",\"2021\":\"Dye Hard 2: Dye Harder\"}},{\"id\":36,\"name\":\"Hanna\",\"elo_rating\":1378.4656232934,\"tournaments\":{\"2021\":\"Dyes before guys\"}},{\"id\":37,\"name\":\"Hans\",\"elo_rating\":1581.6462826955,\"tournaments\":{\"2020\":\"dye martini\",\"2021\":\"dye martini\"}},{\"id\":38,\"name\":\"Harald\",\"elo_rating\":1377.2662530202,\"tournaments\":{\"2021\":\"Diarrhea\",\"2020\":\"Diarrhea\"}},{\"id\":39,\"name\":\"Henrik\",\"elo_rating\":1350.0,\"tournaments\":{\"2020\":\"Dye of the Tiger \\\\ud83d\\\\udc2f\"}},{\"id\":40,\"name\":\"Henrik\",\"elo_rating\":1350.1384630051,\"tournaments\":{\"2021\":\"Solvers\"}},{\"id\":41,\"name\":\"Hjalte\",\"elo_rating\":1534.5435679119,\"tournaments\":{\"2021\":\"H.O. Langes helte\"}},{\"id\":42,\"name\":\"Holger\",\"elo_rating\":1459.0091956668,\"tournaments\":{\"2021\":\"Dyegestive\",\"2020\":\"Total Dyenimation\"}},{\"id\":43,\"name\":\"Ida\",\"elo_rating\":1376.3192711944,\"tournaments\":{\"2021\":\"Shine bright like a dyemond\"}},{\"id\":44,\"name\":\"Jakob\",\"elo_rating\":1376.6110116112,\"tournaments\":{\"2021\":\"Average Joe\\\\u2019s\"}},{\"id\":45,\"name\":\"Jakob\",\"elo_rating\":1493.6047067017,\"tournaments\":{\"2021\":\"Dyelicious\",\"2020\":\"Live or dye trying\"}},{\"id\":46,\"name\":\"Jan\",\"elo_rating\":1518.3603338555,\"tournaments\":{\"2020\":\"Dyelai Lama\"}},{\"id\":47,\"name\":\"Jean\",\"elo_rating\":1375.0,\"tournaments\":{\"2021\":\"Kobe Dyeant\",\"2020\":\"Scotch Bonnet Bois\"}},{\"id\":48,\"name\":\"Jeppe\",\"elo_rating\":1375.1314046264,\"tournaments\":{\"2021\":\"Dyennis Rommedahl\"}},{\"id\":49,\"name\":\"Jessica\",\"elo_rating\":1375.0,\"tournaments\":{\"2020\":\"Dyenamite\"}},{\"id\":50,\"name\":\"Joakim\",\"elo_rating\":1425.8143701987,\"tournaments\":{\"2021\":\"Dyelai Lama\"}},{\"id\":51,\"name\":\"Johan\",\"elo_rating\":1448.2549476016,\"tournaments\":{\"2021\":\"Dye ud af r\\\\u00f8ven tricket\"}},{\"id\":52,\"name\":\"Johann\",\"elo_rating\":1376.6110116112,\"tournaments\":{\"2021\":\"Average Joe\\\\u2019s\"}},{\"id\":53,\"name\":\"Johannes\",\"elo_rating\":1347.5495224502,\"tournaments\":{\"2021\":\"Sink-182\"}},{\"id\":54,\"name\":\"Jon\",\"elo_rating\":1423.2042036527,\"tournaments\":{\"2020\":\"Jonads\"}},{\"id\":55,\"name\":\"Jonas\",\"elo_rating\":1450.9847195698,\"tournaments\":{\"2021\":\"Dye Hard 2: Dye Harder\"}},{\"id\":56,\"name\":\"Jonas\",\"elo_rating\":1514.0511944037,\"tournaments\":{\"2020\":\"Live or dye trying\",\"2021\":\"Super Dyerio Bros\"}},{\"id\":57,\"name\":\"Jonathan\",\"elo_rating\":1423.0022975816,\"tournaments\":{\"2021\":\"DYEOFF\",\"2020\":\"Live hard, DYE trying\"}},{\"id\":58,\"name\":\"Jonathan\",\"elo_rating\":1497.4690703409,\"tournaments\":{\"2021\":\"Bouillon\",\"2020\":\"Hold farten\"}},{\"id\":59,\"name\":\"Juliette\",\"elo_rating\":1375.6930033848,\"tournaments\":{\"2021\":\"Team Dobbelsteen\"}},{\"id\":60,\"name\":\"Karl\",\"elo_rating\":1581.6462826955,\"tournaments\":{\"2020\":\"dye martini\",\"2021\":\"dye martini\"}},{\"id\":61,\"name\":\"Kasper\",\"elo_rating\":1375.0,\"tournaments\":{\"2020\":\"Skeltvedye\"}},{\"id\":62,\"name\":\"Kasper\",\"elo_rating\":1374.0320992225,\"tournaments\":{\"2021\":\"3460iditglas\"}},{\"id\":63,\"name\":\"Kasper\",\"elo_rating\":1359.5168373864,\"tournaments\":{\"2021\":\"Ride or Dye\"}},{\"id\":64,\"name\":\"Katrine\",\"elo_rating\":1375.0,\"tournaments\":{\"2020\":\"Bornholmer Flicka \\\\ud83c\\\\udf1e\"}},{\"id\":65,\"name\":\"Kiki\",\"elo_rating\":1400.4177737655,\"tournaments\":{\"2021\":\"Tietgens Tigermissere\"}},{\"id\":66,\"name\":\"Kim\",\"elo_rating\":1350.0,\"tournaments\":{\"2021\":\"Dye Hard\"}},{\"id\":67,\"name\":\"Kristian\",\"elo_rating\":1403.1777141465,\"tournaments\":{\"2021\":\"Live and let Dye\"}},{\"id\":68,\"name\":\"Laura\",\"elo_rating\":1325.8990594186,\"tournaments\":{\"2020\":\"Born to dye\",\"2021\":\"Lady Dye \\\\ud83d\\\\udc51\"}},{\"id\":69,\"name\":\"Laurits\",\"elo_rating\":1423.2042036527,\"tournaments\":{\"2020\":\"No time to die\"}},{\"id\":70,\"name\":\"Luisa\",\"elo_rating\":1350.0,\"tournaments\":{\"2021\":\"Only  the good dye young\"}},{\"id\":71,\"name\":\"Mads\",\"elo_rating\":1381.4223309769,\"tournaments\":{\"2021\":\"Joel Finn Dye\"}},{\"id\":72,\"name\":\"Mads\",\"elo_rating\":1371.5326776961,\"tournaments\":{\"2020\":\"Jonads\",\"2021\":\"Mara Damsgaard\"}},{\"id\":73,\"name\":\"Mads\",\"elo_rating\":1352.9046627756,\"tournaments\":{\"2021\":\"Prinserne\"}},{\"id\":74,\"name\":\"Mads\",\"elo_rating\":1330.6118987365,\"tournaments\":{\"2020\":\"Formand Emeritus\",\"2021\":\"Formand Emeritus\"}},{\"id\":75,\"name\":\"Mads\",\"elo_rating\":1455.2891006331,\"tournaments\":{\"2021\":\"Dyegestive\",\"2020\":\"No time to die\"}},{\"id\":76,\"name\":\"Maks\",\"elo_rating\":1408.0980051892,\"tournaments\":{\"2021\":\"Mike Dyeson\"}},{\"id\":77,\"name\":\"Malthe\",\"elo_rating\":1377.2662530202,\"tournaments\":{\"2021\":\"Diarrhea\",\"2020\":\"Diarrhea\"}},{\"id\":78,\"name\":\"Marcus\",\"elo_rating\":1349.0364153158,\"tournaments\":{\"2021\":\"Det Johnson Baby!\"}},{\"id\":79,\"name\":\"Marcus\",\"elo_rating\":1350.0,\"tournaments\":{\"2020\":\"RAM RANCH\"}},{\"id\":80,\"name\":\"Marcus\",\"elo_rating\":1350.0,\"tournaments\":{\"2021\":\"Dye Hard\"}},{\"id\":81,\"name\":\"Maria\",\"elo_rating\":1407.1273852881,\"tournaments\":{\"2021\":\"14x\"}},{\"id\":82,\"name\":\"Maria\",\"elo_rating\":1405.0781922271,\"tournaments\":{\"2021\":\"Dyeson st\\\\u00f8vsluger\"}},{\"id\":83,\"name\":\"Markus\",\"elo_rating\":1405.0781922271,\"tournaments\":{\"2021\":\"Dyeson st\\\\u00f8vsluger\"}},{\"id\":84,\"name\":\"Martin\",\"elo_rating\":1375.0530785306,\"tournaments\":{\"2021\":\"Ph.Dye\"}},{\"id\":85,\"name\":\"Mathias\",\"elo_rating\":1426.5198672365,\"tournaments\":{\"2021\":\"Tuds Dyelings\"}},{\"id\":86,\"name\":\"Mathias\",\"elo_rating\":1497.4690703409,\"tournaments\":{\"2021\":\"Bouillon\",\"2020\":\"Hold farten\"}},{\"id\":87,\"name\":\"Mathilde\",\"elo_rating\":1350.0,\"tournaments\":{\"2021\":\"Only  the good dye young\"}},{\"id\":88,\"name\":\"Mikkel\",\"elo_rating\":1426.2634429819,\"tournaments\":{\"2021\":\"Dye og mig\"}},{\"id\":89,\"name\":\"Mikkel\",\"elo_rating\":1422.4583591138,\"tournaments\":{\"2021\":\"Mig og dye for altid\"}},{\"id\":90,\"name\":\"Milad\",\"elo_rating\":1382.6568112249,\"tournaments\":{\"2020\":\"High Rollers\",\"2021\":\"Sheeeeesh brors\"}},{\"id\":91,\"name\":\"Morten\",\"elo_rating\":1359.5168373864,\"tournaments\":{\"2021\":\"Ride or Dye\"}},{\"id\":92,\"name\":\"My\",\"elo_rating\":1378.4656232934,\"tournaments\":{\"2021\":\"Dyes before guys\"}},{\"id\":93,\"name\":\"Niclas\",\"elo_rating\":1378.2442468264,\"tournaments\":{\"2020\":\"De f\\\\u00d8Lsomme drenge\",\"2021\":\"Try Hard or Dye Trying\"}},{\"id\":94,\"name\":\"Nicoline\",\"elo_rating\":1350.8990594186,\"tournaments\":{\"2021\":\"Lady Dye \\\\ud83d\\\\udc51\"}},{\"id\":95,\"name\":\"Niklas\",\"elo_rating\":1400.0,\"tournaments\":{\"2020\":\"Dye Hard 2: Dye Harder\"}},{\"id\":96,\"name\":\"Nikolai\",\"elo_rating\":1448.2549476016,\"tournaments\":{\"2021\":\"Dye ud af r\\\\u00f8ven tricket\"}},{\"id\":97,\"name\":\"Nikolaj\",\"elo_rating\":1466.6114572739,\"tournaments\":{\"2021\":\"NevaLost!\",\"2020\":\"NevaLost!\"}},{\"id\":98,\"name\":\"Nikolaj\",\"elo_rating\":1302.9046627756,\"tournaments\":{\"2021\":\"Prinserne\",\"2020\":\"RAM RANCH\"}},{\"id\":99,\"name\":\"Oliver\",\"elo_rating\":1399.7980939288,\"tournaments\":{\"2021\":\"DYEOFF\"}},{\"id\":100,\"name\":\"\\\\u00d6yk\\\\u00fc\",\"elo_rating\":1396.5980251889,\"tournaments\":{\"2021\":\"Er du dum du dyelig\",\"2020\":\"ErruDyeEllaHvad\"}},{\"id\":101,\"name\":\"Peter\",\"elo_rating\":1346.4268441296,\"tournaments\":{\"2021\":\"Bankers & Wankers\"}},{\"id\":102,\"name\":\"Peter\",\"elo_rating\":1381.4223309769,\"tournaments\":{\"2021\":\"Joel Finn Dye\"}},{\"id\":103,\"name\":\"Petrea\",\"elo_rating\":1351.946208318,\"tournaments\":{\"2021\":\"Marry rich or dye trying\"}},{\"id\":104,\"name\":\"Rasmus\",\"elo_rating\":1518.6047067017,\"tournaments\":{\"2021\":\"Dyelicious\"}},{\"id\":105,\"name\":\"Rasmus\",\"elo_rating\":1466.6114572739,\"tournaments\":{\"2021\":\"NevaLost!\",\"2020\":\"NevaLost!\"}},{\"id\":106,\"name\":\"Rasmus\",\"elo_rating\":1350.0,\"tournaments\":{\"2021\":\"Det er ikke dye, det er mig.\"}},{\"id\":107,\"name\":\"Rasmus\",\"elo_rating\":1451.2999990009,\"tournaments\":{\"2020\":\"BFT\\\\u2019s finest\"}},{\"id\":108,\"name\":\"Ricco\",\"elo_rating\":1376.9215919496,\"tournaments\":{\"2020\":\"Dye Hard\",\"2021\":\"WOLOLO\"}},{\"id\":109,\"name\":\"Richard\",\"elo_rating\":1400.0,\"tournaments\":{\"2020\":\"Long Arms\"}},{\"id\":110,\"name\":\"Rikke\",\"elo_rating\":1422.4583591138,\"tournaments\":{\"2021\":\"Mig og dye for altid\"}},{\"id\":111,\"name\":\"Rolf\",\"elo_rating\":1428.4184934922,\"tournaments\":{\"2021\":\"Hej med dye\"}},{\"id\":112,\"name\":\"Sara\",\"elo_rating\":1323.3284740434,\"tournaments\":{\"2020\":\"Et godt navn\",\"2021\":\"Mara Damsgaard\"}},{\"id\":113,\"name\":\"Sebastian\",\"elo_rating\":1375.0,\"tournaments\":{\"2020\":\"Skeltvedye\"}},{\"id\":114,\"name\":\"Sebastian\",\"elo_rating\":1350.0,\"tournaments\":{\"2020\":\"Seb et Seb\"}},{\"id\":115,\"name\":\"Sebastian\",\"elo_rating\":1426.2634429819,\"tournaments\":{\"2021\":\"Dye og mig\"}},{\"id\":116,\"name\":\"Sebastian\",\"elo_rating\":1327.5750346133,\"tournaments\":{\"2021\":\"Dye save the Queen\",\"2020\":\"Seb et Seb\"}},{\"id\":117,\"name\":\"Signe\",\"elo_rating\":1375.0,\"tournaments\":{\"2020\":\"Bornholmer Flicka \\\\ud83c\\\\udf1e\"}},{\"id\":118,\"name\":\"Signe\",\"elo_rating\":1377.5750346133,\"tournaments\":{\"2021\":\"Dye save the Queen\"}},{\"id\":119,\"name\":\"Sigrid\",\"elo_rating\":1351.5562905196,\"tournaments\":{\"2021\":\"Vierherfor\\\\u00f8llene\"}},{\"id\":120,\"name\":\"Simon\",\"elo_rating\":1398.484220472,\"tournaments\":{\"2021\":\"Duck Dyeve\"}},{\"id\":121,\"name\":\"Simon\",\"elo_rating\":1375.2284328693,\"tournaments\":{\"2020\":\"Bomb\",\"2021\":\"Speziale\"}},{\"id\":122,\"name\":\"Simone\",\"elo_rating\":1375.0,\"tournaments\":{\"2020\":\"Born to dye\"}},{\"id\":123,\"name\":\"Simone\",\"elo_rating\":1354.5454545455,\"tournaments\":{\"2021\":\"Dyenamite\"}},{\"id\":124,\"name\":\"Sofia\",\"elo_rating\":1350.0,\"tournaments\":{\"2021\":\"Live fast, dye young\"}},{\"id\":125,\"name\":\"Sofie\",\"elo_rating\":1400.2378703092,\"tournaments\":{\"2021\":\"dye JUNGen\"}},{\"id\":126,\"name\":\"Sophie\",\"elo_rating\":1377.2693638108,\"tournaments\":{\"2021\":\"WinDyeOrDyeTrying\"}},{\"id\":127,\"name\":\"Sophus\",\"elo_rating\":1350.1384630051,\"tournaments\":{\"2021\":\"Solvers\"}},{\"id\":128,\"name\":\"S\\\\u00f8ren\",\"elo_rating\":1549.0394139208,\"tournaments\":{\"2021\":\"Surdye\"}},{\"id\":129,\"name\":\"S\\\\u00f8ren\",\"elo_rating\":1434.8316000233,\"tournaments\":{\"2021\":\"Dye \\'N\\' Knight\"}},{\"id\":130,\"name\":\"Steffen\",\"elo_rating\":1354.5454545455,\"tournaments\":{\"2021\":\"Dyenamite\"}},{\"id\":131,\"name\":\"Stine\",\"elo_rating\":1400.2378703092,\"tournaments\":{\"2021\":\"dye JUNGen\"}},{\"id\":132,\"name\":\"Taha\",\"elo_rating\":1400.0,\"tournaments\":{\"2021\":\"Kobe Dyeant\"}},{\"id\":133,\"name\":\"Theo\",\"elo_rating\":1350.0,\"tournaments\":{\"2020\":\"Les deux merveilles\"}},{\"id\":134,\"name\":\"Thomas\",\"elo_rating\":1403.1777141465,\"tournaments\":{\"2021\":\"Live and let Dye\"}},{\"id\":135,\"name\":\"Thomas\",\"elo_rating\":1330.6118987365,\"tournaments\":{\"2020\":\"Formand Emeritus\",\"2021\":\"Formand Emeritus\"}},{\"id\":136,\"name\":\"Till\",\"elo_rating\":1400.2284328693,\"tournaments\":{\"2021\":\"Speziale\"}},{\"id\":137,\"name\":\"Tobias\",\"elo_rating\":1375.1314046264,\"tournaments\":{\"2021\":\"Dyennis Rommedahl\"}},{\"id\":138,\"name\":\"Tobias\",\"elo_rating\":1428.4184934922,\"tournaments\":{\"2021\":\"Hej med dye\"}},{\"id\":139,\"name\":\"Tom\",\"elo_rating\":1514.0511944037,\"tournaments\":{\"2020\":\"Dyenamite\",\"2021\":\"Super Dyerio Bros\"}},{\"id\":140,\"name\":\"Tor\",\"elo_rating\":1409.8316000233,\"tournaments\":{\"2020\":\"Bomb\",\"2021\":\"Dye \\'N\\' Knight\"}},{\"id\":141,\"name\":\"Ulrica\",\"elo_rating\":1377.2693638108,\"tournaments\":{\"2021\":\"WinDyeOrDyeTrying\"}},{\"id\":142,\"name\":\"Victor\",\"elo_rating\":1453.435360441,\"tournaments\":{\"2021\":\"Dyenosaur\"}},{\"id\":143,\"name\":\"Viktor\",\"elo_rating\":1432.6568112249,\"tournaments\":{\"2021\":\"Sheeeeesh brors\"}},{\"id\":144,\"name\":\"Viktor\",\"elo_rating\":1461.2090089948,\"tournaments\":{\"2021\":\"Gaucho Glue \\\\ud83d\\\\udd90\\\\ud83c\\\\udffb\",\"2020\":\"Gaucho Glue \\\\ud83d\\\\udd90\\\\ud83c\\\\udffb\"}},{\"id\":145,\"name\":\"Viktor\",\"elo_rating\":1350.0,\"tournaments\":{\"2021\":\"Det er ikke dye, det er mig.\"}},{\"id\":146,\"name\":\"Viktoria\",\"elo_rating\":1350.0,\"tournaments\":{\"2020\":\"Dice Dice Baby\"}},{\"id\":147,\"name\":\"Will\",\"elo_rating\":1416.0986755394,\"tournaments\":{\"2020\":\"Fry up\",\"2021\":\"Isn\\'t it a coincidence that ...\"}},{\"id\":148,\"name\":\"William\",\"elo_rating\":1346.4268441296,\"tournaments\":{\"2021\":\"Bankers & Wankers\"}},{\"id\":149,\"name\":\"William\",\"elo_rating\":1398.484220472,\"tournaments\":{\"2021\":\"Duck Dyeve\"}},{\"id\":150,\"name\":\"William\",\"elo_rating\":1534.5435679119,\"tournaments\":{\"2021\":\"H.O. Langes helte\"}},{\"id\":151,\"name\":\"William\",\"elo_rating\":1544.1747040542,\"tournaments\":{\"2020\":\"Dyelai Lama\",\"2021\":\"Dyelai Lama\"}}'"
            ],
            "application/vnd.google.colaboratory.intrinsic+json": {
              "type": "string"
            }
          },
          "metadata": {},
          "execution_count": 251
        }
      ]
    }
  ]
}